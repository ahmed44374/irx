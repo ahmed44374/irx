{
 "cells": [
  {
   "cell_type": "markdown",
   "metadata": {},
   "source": [
    "# IRx\n",
    "\n",
    "**IRx** aims to provide a translator to LLVM-IR from\n",
    "[**ASTx**](https://github.com/arxlang/astx) objects.\n",
    "\n",
    "## Getting Started\n",
    "\n",
    "First, check our documentation about the [installation](/installation).\n",
    "\n",
    "Now, let's import our library:"
   ]
  },
  {
   "cell_type": "code",
   "metadata": {
    "ExecuteTime": {
     "end_time": "2025-03-22T12:27:05.526896Z",
     "start_time": "2025-03-22T12:27:05.053804Z"
    }
   },
   "source": [
    "import astx\n",
    "from irx.builders.llvmliteir import LLVMLiteIR"
   ],
   "outputs": [],
   "execution_count": 4
  },
  {
   "cell_type": "code",
   "metadata": {
    "ExecuteTime": {
     "end_time": "2025-03-22T12:27:07.157034Z",
     "start_time": "2025-03-22T12:27:07.148801Z"
    }
   },
   "source": [
    "builder = LLVMLiteIR()\n",
    "module = builder.module()\n",
    "\n",
    "decl_a = astx.VariableDeclaration(name=\"a\", type_=astx.Int32(), value=astx.LiteralInt32(1))\n",
    "decl_b = astx.VariableDeclaration(name=\"b\", type_=astx.Int32(), value=astx.LiteralInt32(2))\n",
    "decl_c = astx.VariableDeclaration(name=\"c\", type_=astx.Int32(), value=astx.LiteralInt32(4))\n",
    "\n",
    "a = astx.Variable(name=\"a\")\n",
    "b = astx.Variable(name=\"b\")\n",
    "c = astx.Variable(name=\"c\")\n",
    "\n",
    "lit_1 = astx.LiteralInt32(1)\n",
    "\n",
    "basic_op = lit_1 + b - a * c / a + (b - a + c / a)\n",
    "\n",
    "main_proto = astx.FunctionPrototype(\n",
    "    name=\"main\", args=astx.Arguments(), return_type=astx.Int32()\n",
    ")\n",
    "main_block = astx.Block()\n",
    "main_block.append(decl_a)\n",
    "main_block.append(decl_b)\n",
    "main_block.append(decl_c)\n",
    "main_block.append(astx.FunctionReturn(basic_op))\n",
    "main_fn = astx.Function(prototype=main_proto, body=main_block)\n",
    "\n",
    "module.block.append(main_fn)"
   ],
   "outputs": [],
   "execution_count": 5
  },
  {
   "cell_type": "code",
   "metadata": {
    "ExecuteTime": {
     "end_time": "2025-03-22T12:27:09.707255Z",
     "start_time": "2025-03-22T12:27:09.184567Z"
    }
   },
   "source": [
    "module"
   ],
   "outputs": [
    {
     "ename": "FileNotFoundError",
     "evalue": "[Errno 2] No such file or directory: 'java'",
     "output_type": "error",
     "traceback": [
      "\u001B[0;31m---------------------------------------------------------------------------\u001B[0m",
      "\u001B[0;31mFileNotFoundError\u001B[0m                         Traceback (most recent call last)",
      "File \u001B[0;32m~/.cache/pypoetry/virtualenvs/pyirx-r05ZTuvA-py3.13/lib/python3.13/site-packages/IPython/core/formatters.py:344\u001B[0m, in \u001B[0;36mBaseFormatter.__call__\u001B[0;34m(self, obj)\u001B[0m\n\u001B[1;32m    342\u001B[0m     method \u001B[38;5;241m=\u001B[39m get_real_method(obj, \u001B[38;5;28mself\u001B[39m\u001B[38;5;241m.\u001B[39mprint_method)\n\u001B[1;32m    343\u001B[0m     \u001B[38;5;28;01mif\u001B[39;00m method \u001B[38;5;129;01mis\u001B[39;00m \u001B[38;5;129;01mnot\u001B[39;00m \u001B[38;5;28;01mNone\u001B[39;00m:\n\u001B[0;32m--> 344\u001B[0m         \u001B[38;5;28;01mreturn\u001B[39;00m \u001B[43mmethod\u001B[49m\u001B[43m(\u001B[49m\u001B[43m)\u001B[49m\n\u001B[1;32m    345\u001B[0m     \u001B[38;5;28;01mreturn\u001B[39;00m \u001B[38;5;28;01mNone\u001B[39;00m\n\u001B[1;32m    346\u001B[0m \u001B[38;5;28;01melse\u001B[39;00m:\n",
      "File \u001B[0;32m~/.cache/pypoetry/virtualenvs/pyirx-r05ZTuvA-py3.13/lib/python3.13/site-packages/astx/base.py:202\u001B[0m, in \u001B[0;36mAST._repr_png_\u001B[0;34m(self)\u001B[0m\n\u001B[1;32m    195\u001B[0m \u001B[38;5;250m\u001B[39m\u001B[38;5;124;03m\"\"\"\u001B[39;00m\n\u001B[1;32m    196\u001B[0m \u001B[38;5;124;03mReturn PNG representation of the Graphviz object.\u001B[39;00m\n\u001B[1;32m    197\u001B[0m \n\u001B[1;32m    198\u001B[0m \u001B[38;5;124;03mThis method is specially recognized by Jupyter Notebook to display\u001B[39;00m\n\u001B[1;32m    199\u001B[0m \u001B[38;5;124;03ma Graphviz diagram inline.\u001B[39;00m\n\u001B[1;32m    200\u001B[0m \u001B[38;5;124;03m\"\"\"\u001B[39;00m\n\u001B[1;32m    201\u001B[0m \u001B[38;5;66;03m# importing it here in order to avoid cyclic import issue\u001B[39;00m\n\u001B[0;32m--> 202\u001B[0m \u001B[38;5;28;01mfrom\u001B[39;00m\u001B[38;5;250m \u001B[39m\u001B[38;5;21;01mastx\u001B[39;00m\u001B[38;5;21;01m.\u001B[39;00m\u001B[38;5;21;01mviz\u001B[39;00m\u001B[38;5;250m \u001B[39m\u001B[38;5;28;01mimport\u001B[39;00m visualize\n\u001B[1;32m    204\u001B[0m visualize(\u001B[38;5;28mself\u001B[39m\u001B[38;5;241m.\u001B[39mget_struct(simplified\u001B[38;5;241m=\u001B[39m\u001B[38;5;28;01mFalse\u001B[39;00m))\n",
      "File \u001B[0;32m~/.cache/pypoetry/virtualenvs/pyirx-r05ZTuvA-py3.13/lib/python3.13/site-packages/astx/viz.py:19\u001B[0m\n\u001B[1;32m     15\u001B[0m \u001B[38;5;28;01mfrom\u001B[39;00m\u001B[38;5;250m \u001B[39m\u001B[38;5;21;01mtyping\u001B[39;00m\u001B[38;5;250m \u001B[39m\u001B[38;5;28;01mimport\u001B[39;00m Optional, cast\n\u001B[1;32m     17\u001B[0m \u001B[38;5;28;01mimport\u001B[39;00m\u001B[38;5;250m \u001B[39m\u001B[38;5;21;01mrequests\u001B[39;00m\n\u001B[0;32m---> 19\u001B[0m \u001B[38;5;28;01mfrom\u001B[39;00m\u001B[38;5;250m \u001B[39m\u001B[38;5;21;01masciinet\u001B[39;00m\u001B[38;5;250m \u001B[39m\u001B[38;5;28;01mimport\u001B[39;00m (\n\u001B[1;32m     20\u001B[0m     Timeout,\n\u001B[1;32m     21\u001B[0m     _asciigraph,\n\u001B[1;32m     22\u001B[0m     _AsciiGraphProxy,\n\u001B[1;32m     23\u001B[0m )\n\u001B[1;32m     24\u001B[0m \u001B[38;5;28;01mfrom\u001B[39;00m\u001B[38;5;250m \u001B[39m\u001B[38;5;21;01mgraphviz\u001B[39;00m\u001B[38;5;250m \u001B[39m\u001B[38;5;28;01mimport\u001B[39;00m Digraph\n\u001B[1;32m     25\u001B[0m \u001B[38;5;28;01mfrom\u001B[39;00m\u001B[38;5;250m \u001B[39m\u001B[38;5;21;01mIPython\u001B[39;00m\u001B[38;5;21;01m.\u001B[39;00m\u001B[38;5;21;01mdisplay\u001B[39;00m\u001B[38;5;250m \u001B[39m\u001B[38;5;28;01mimport\u001B[39;00m Image, display\n",
      "File \u001B[0;32m~/.cache/pypoetry/virtualenvs/pyirx-r05ZTuvA-py3.13/lib/python3.13/site-packages/asciinet/__init__.py:96\u001B[0m\n\u001B[1;32m     92\u001B[0m     \u001B[38;5;28;01mdef\u001B[39;00m\u001B[38;5;250m \u001B[39m\u001B[38;5;21mclose\u001B[39m(\u001B[38;5;28mself\u001B[39m):\n\u001B[1;32m     93\u001B[0m         \u001B[38;5;28mself\u001B[39m\u001B[38;5;241m.\u001B[39m_proc\u001B[38;5;241m.\u001B[39mkill()\n\u001B[0;32m---> 96\u001B[0m _asciigraph \u001B[38;5;241m=\u001B[39m \u001B[43m_AsciiGraphProxy\u001B[49m\u001B[38;5;241;43m.\u001B[39;49m\u001B[43minstance\u001B[49m\u001B[43m(\u001B[49m\u001B[43m)\u001B[49m\n\u001B[1;32m     99\u001B[0m \u001B[38;5;129m@atexit\u001B[39m\u001B[38;5;241m.\u001B[39mregister\n\u001B[1;32m    100\u001B[0m \u001B[38;5;28;01mdef\u001B[39;00m\u001B[38;5;250m \u001B[39m\u001B[38;5;21m_cleanup\u001B[39m():\n\u001B[1;32m    101\u001B[0m     _asciigraph\u001B[38;5;241m.\u001B[39mclose()\n",
      "File \u001B[0;32m~/.cache/pypoetry/virtualenvs/pyirx-r05ZTuvA-py3.13/lib/python3.13/site-packages/asciinet/__init__.py:46\u001B[0m, in \u001B[0;36m_AsciiGraphProxy.instance\u001B[0;34m()\u001B[0m\n\u001B[1;32m     43\u001B[0m \u001B[38;5;129m@staticmethod\u001B[39m\n\u001B[1;32m     44\u001B[0m \u001B[38;5;28;01mdef\u001B[39;00m\u001B[38;5;250m \u001B[39m\u001B[38;5;21minstance\u001B[39m():\n\u001B[1;32m     45\u001B[0m     \u001B[38;5;28;01mif\u001B[39;00m \u001B[38;5;129;01mnot\u001B[39;00m \u001B[38;5;28mhasattr\u001B[39m(_AsciiGraphProxy, \u001B[38;5;124m\"\u001B[39m\u001B[38;5;124m_instance\u001B[39m\u001B[38;5;124m\"\u001B[39m):\n\u001B[0;32m---> 46\u001B[0m         _AsciiGraphProxy\u001B[38;5;241m.\u001B[39m_instance \u001B[38;5;241m=\u001B[39m \u001B[43m_AsciiGraphProxy\u001B[49m\u001B[43m(\u001B[49m\u001B[43m)\u001B[49m\n\u001B[1;32m     47\u001B[0m     \u001B[38;5;28;01mreturn\u001B[39;00m _AsciiGraphProxy\u001B[38;5;241m.\u001B[39m_instance\n",
      "File \u001B[0;32m~/.cache/pypoetry/virtualenvs/pyirx-r05ZTuvA-py3.13/lib/python3.13/site-packages/asciinet/__init__.py:50\u001B[0m, in \u001B[0;36m_AsciiGraphProxy.__init__\u001B[0;34m(self, port)\u001B[0m\n\u001B[1;32m     49\u001B[0m \u001B[38;5;28;01mdef\u001B[39;00m\u001B[38;5;250m \u001B[39m\u001B[38;5;21m__init__\u001B[39m(\u001B[38;5;28mself\u001B[39m, port\u001B[38;5;241m=\u001B[39m\u001B[38;5;241m0\u001B[39m):\n\u001B[0;32m---> 50\u001B[0m     \u001B[43mcheck_java\u001B[49m\u001B[43m(\u001B[49m\u001B[38;5;124;43m\"\u001B[39;49m\u001B[38;5;124;43mJava is needed to run graph_to_ascii\u001B[39;49m\u001B[38;5;124;43m\"\u001B[39;49m\u001B[43m)\u001B[49m\n\u001B[1;32m     51\u001B[0m     \u001B[38;5;28mself\u001B[39m\u001B[38;5;241m.\u001B[39m_prefix \u001B[38;5;241m=\u001B[39m \u001B[38;5;124m'\u001B[39m\u001B[38;5;132;01m{0}\u001B[39;00m\u001B[38;5;124m=\u001B[39m\u001B[38;5;124m'\u001B[39m\u001B[38;5;241m.\u001B[39mformat(uuid\u001B[38;5;241m.\u001B[39muuid1())\n\u001B[1;32m     52\u001B[0m     ascii_opts \u001B[38;5;241m=\u001B[39m [\u001B[38;5;124m'\u001B[39m\u001B[38;5;124m--port\u001B[39m\u001B[38;5;124m'\u001B[39m, \u001B[38;5;28mstr\u001B[39m(port), \u001B[38;5;124m'\u001B[39m\u001B[38;5;124m--die_on_broken_pipe\u001B[39m\u001B[38;5;124m'\u001B[39m, \u001B[38;5;124m'\u001B[39m\u001B[38;5;124m--port_notification_prefix\u001B[39m\u001B[38;5;124m'\u001B[39m, \u001B[38;5;28mself\u001B[39m\u001B[38;5;241m.\u001B[39m_prefix]\n",
      "File \u001B[0;32m~/.cache/pypoetry/virtualenvs/pyirx-r05ZTuvA-py3.13/lib/python3.13/site-packages/asciinet/_libutil.py:43\u001B[0m, in \u001B[0;36mcheck_java\u001B[0;34m(message)\u001B[0m\n\u001B[1;32m     42\u001B[0m \u001B[38;5;28;01mdef\u001B[39;00m\u001B[38;5;250m \u001B[39m\u001B[38;5;21mcheck_java\u001B[39m(message\u001B[38;5;241m=\u001B[39m\u001B[38;5;124m\"\u001B[39m\u001B[38;5;124m\"\u001B[39m):\n\u001B[0;32m---> 43\u001B[0m     \u001B[38;5;28;01mif\u001B[39;00m \u001B[43mcall\u001B[49m\u001B[43m(\u001B[49m\u001B[43m[\u001B[49m\u001B[38;5;124;43m'\u001B[39;49m\u001B[38;5;124;43mjava\u001B[39;49m\u001B[38;5;124;43m'\u001B[39;49m\u001B[43m,\u001B[49m\u001B[43m \u001B[49m\u001B[38;5;124;43m'\u001B[39;49m\u001B[38;5;124;43m-version\u001B[39;49m\u001B[38;5;124;43m'\u001B[39;49m\u001B[43m]\u001B[49m\u001B[43m,\u001B[49m\u001B[43m \u001B[49m\u001B[43mstderr\u001B[49m\u001B[38;5;241;43m=\u001B[39;49m\u001B[43mDEVNULL\u001B[49m\u001B[43m)\u001B[49m \u001B[38;5;241m!=\u001B[39m \u001B[38;5;241m0\u001B[39m:\n\u001B[1;32m     44\u001B[0m         \u001B[38;5;28;01mraise\u001B[39;00m JavaNotFoundException(\n\u001B[1;32m     45\u001B[0m             \u001B[38;5;124m'\u001B[39m\u001B[38;5;124mJava is not installed in the system path. \u001B[39m\u001B[38;5;132;01m{0}\u001B[39;00m\u001B[38;5;124m'\u001B[39m\u001B[38;5;241m.\u001B[39mformat(message))\n",
      "File \u001B[0;32m~/anaconda3/envs/irx/lib/python3.13/subprocess.py:397\u001B[0m, in \u001B[0;36mcall\u001B[0;34m(timeout, *popenargs, **kwargs)\u001B[0m\n\u001B[1;32m    389\u001B[0m \u001B[38;5;28;01mdef\u001B[39;00m\u001B[38;5;250m \u001B[39m\u001B[38;5;21mcall\u001B[39m(\u001B[38;5;241m*\u001B[39mpopenargs, timeout\u001B[38;5;241m=\u001B[39m\u001B[38;5;28;01mNone\u001B[39;00m, \u001B[38;5;241m*\u001B[39m\u001B[38;5;241m*\u001B[39mkwargs):\n\u001B[1;32m    390\u001B[0m \u001B[38;5;250m    \u001B[39m\u001B[38;5;124;03m\"\"\"Run command with arguments.  Wait for command to complete or\u001B[39;00m\n\u001B[1;32m    391\u001B[0m \u001B[38;5;124;03m    for timeout seconds, then return the returncode attribute.\u001B[39;00m\n\u001B[1;32m    392\u001B[0m \n\u001B[0;32m   (...)\u001B[0m\n\u001B[1;32m    395\u001B[0m \u001B[38;5;124;03m    retcode = call([\"ls\", \"-l\"])\u001B[39;00m\n\u001B[1;32m    396\u001B[0m \u001B[38;5;124;03m    \"\"\"\u001B[39;00m\n\u001B[0;32m--> 397\u001B[0m     \u001B[38;5;28;01mwith\u001B[39;00m \u001B[43mPopen\u001B[49m\u001B[43m(\u001B[49m\u001B[38;5;241;43m*\u001B[39;49m\u001B[43mpopenargs\u001B[49m\u001B[43m,\u001B[49m\u001B[43m \u001B[49m\u001B[38;5;241;43m*\u001B[39;49m\u001B[38;5;241;43m*\u001B[39;49m\u001B[43mkwargs\u001B[49m\u001B[43m)\u001B[49m \u001B[38;5;28;01mas\u001B[39;00m p:\n\u001B[1;32m    398\u001B[0m         \u001B[38;5;28;01mtry\u001B[39;00m:\n\u001B[1;32m    399\u001B[0m             \u001B[38;5;28;01mreturn\u001B[39;00m p\u001B[38;5;241m.\u001B[39mwait(timeout\u001B[38;5;241m=\u001B[39mtimeout)\n",
      "File \u001B[0;32m~/anaconda3/envs/irx/lib/python3.13/subprocess.py:1038\u001B[0m, in \u001B[0;36mPopen.__init__\u001B[0;34m(self, args, bufsize, executable, stdin, stdout, stderr, preexec_fn, close_fds, shell, cwd, env, universal_newlines, startupinfo, creationflags, restore_signals, start_new_session, pass_fds, user, group, extra_groups, encoding, errors, text, umask, pipesize, process_group)\u001B[0m\n\u001B[1;32m   1034\u001B[0m         \u001B[38;5;28;01mif\u001B[39;00m \u001B[38;5;28mself\u001B[39m\u001B[38;5;241m.\u001B[39mtext_mode:\n\u001B[1;32m   1035\u001B[0m             \u001B[38;5;28mself\u001B[39m\u001B[38;5;241m.\u001B[39mstderr \u001B[38;5;241m=\u001B[39m io\u001B[38;5;241m.\u001B[39mTextIOWrapper(\u001B[38;5;28mself\u001B[39m\u001B[38;5;241m.\u001B[39mstderr,\n\u001B[1;32m   1036\u001B[0m                     encoding\u001B[38;5;241m=\u001B[39mencoding, errors\u001B[38;5;241m=\u001B[39merrors)\n\u001B[0;32m-> 1038\u001B[0m     \u001B[38;5;28;43mself\u001B[39;49m\u001B[38;5;241;43m.\u001B[39;49m\u001B[43m_execute_child\u001B[49m\u001B[43m(\u001B[49m\u001B[43margs\u001B[49m\u001B[43m,\u001B[49m\u001B[43m \u001B[49m\u001B[43mexecutable\u001B[49m\u001B[43m,\u001B[49m\u001B[43m \u001B[49m\u001B[43mpreexec_fn\u001B[49m\u001B[43m,\u001B[49m\u001B[43m \u001B[49m\u001B[43mclose_fds\u001B[49m\u001B[43m,\u001B[49m\n\u001B[1;32m   1039\u001B[0m \u001B[43m                        \u001B[49m\u001B[43mpass_fds\u001B[49m\u001B[43m,\u001B[49m\u001B[43m \u001B[49m\u001B[43mcwd\u001B[49m\u001B[43m,\u001B[49m\u001B[43m \u001B[49m\u001B[43menv\u001B[49m\u001B[43m,\u001B[49m\n\u001B[1;32m   1040\u001B[0m \u001B[43m                        \u001B[49m\u001B[43mstartupinfo\u001B[49m\u001B[43m,\u001B[49m\u001B[43m \u001B[49m\u001B[43mcreationflags\u001B[49m\u001B[43m,\u001B[49m\u001B[43m \u001B[49m\u001B[43mshell\u001B[49m\u001B[43m,\u001B[49m\n\u001B[1;32m   1041\u001B[0m \u001B[43m                        \u001B[49m\u001B[43mp2cread\u001B[49m\u001B[43m,\u001B[49m\u001B[43m \u001B[49m\u001B[43mp2cwrite\u001B[49m\u001B[43m,\u001B[49m\n\u001B[1;32m   1042\u001B[0m \u001B[43m                        \u001B[49m\u001B[43mc2pread\u001B[49m\u001B[43m,\u001B[49m\u001B[43m \u001B[49m\u001B[43mc2pwrite\u001B[49m\u001B[43m,\u001B[49m\n\u001B[1;32m   1043\u001B[0m \u001B[43m                        \u001B[49m\u001B[43merrread\u001B[49m\u001B[43m,\u001B[49m\u001B[43m \u001B[49m\u001B[43merrwrite\u001B[49m\u001B[43m,\u001B[49m\n\u001B[1;32m   1044\u001B[0m \u001B[43m                        \u001B[49m\u001B[43mrestore_signals\u001B[49m\u001B[43m,\u001B[49m\n\u001B[1;32m   1045\u001B[0m \u001B[43m                        \u001B[49m\u001B[43mgid\u001B[49m\u001B[43m,\u001B[49m\u001B[43m \u001B[49m\u001B[43mgids\u001B[49m\u001B[43m,\u001B[49m\u001B[43m \u001B[49m\u001B[43muid\u001B[49m\u001B[43m,\u001B[49m\u001B[43m \u001B[49m\u001B[43mumask\u001B[49m\u001B[43m,\u001B[49m\n\u001B[1;32m   1046\u001B[0m \u001B[43m                        \u001B[49m\u001B[43mstart_new_session\u001B[49m\u001B[43m,\u001B[49m\u001B[43m \u001B[49m\u001B[43mprocess_group\u001B[49m\u001B[43m)\u001B[49m\n\u001B[1;32m   1047\u001B[0m \u001B[38;5;28;01mexcept\u001B[39;00m:\n\u001B[1;32m   1048\u001B[0m     \u001B[38;5;66;03m# Cleanup if the child failed starting.\u001B[39;00m\n\u001B[1;32m   1049\u001B[0m     \u001B[38;5;28;01mfor\u001B[39;00m f \u001B[38;5;129;01min\u001B[39;00m \u001B[38;5;28mfilter\u001B[39m(\u001B[38;5;28;01mNone\u001B[39;00m, (\u001B[38;5;28mself\u001B[39m\u001B[38;5;241m.\u001B[39mstdin, \u001B[38;5;28mself\u001B[39m\u001B[38;5;241m.\u001B[39mstdout, \u001B[38;5;28mself\u001B[39m\u001B[38;5;241m.\u001B[39mstderr)):\n",
      "File \u001B[0;32m~/anaconda3/envs/irx/lib/python3.13/subprocess.py:1974\u001B[0m, in \u001B[0;36mPopen._execute_child\u001B[0;34m(self, args, executable, preexec_fn, close_fds, pass_fds, cwd, env, startupinfo, creationflags, shell, p2cread, p2cwrite, c2pread, c2pwrite, errread, errwrite, restore_signals, gid, gids, uid, umask, start_new_session, process_group)\u001B[0m\n\u001B[1;32m   1972\u001B[0m     err_msg \u001B[38;5;241m=\u001B[39m os\u001B[38;5;241m.\u001B[39mstrerror(errno_num)\n\u001B[1;32m   1973\u001B[0m \u001B[38;5;28;01mif\u001B[39;00m err_filename \u001B[38;5;129;01mis\u001B[39;00m \u001B[38;5;129;01mnot\u001B[39;00m \u001B[38;5;28;01mNone\u001B[39;00m:\n\u001B[0;32m-> 1974\u001B[0m     \u001B[38;5;28;01mraise\u001B[39;00m child_exception_type(errno_num, err_msg, err_filename)\n\u001B[1;32m   1975\u001B[0m \u001B[38;5;28;01melse\u001B[39;00m:\n\u001B[1;32m   1976\u001B[0m     \u001B[38;5;28;01mraise\u001B[39;00m child_exception_type(errno_num, err_msg)\n",
      "\u001B[0;31mFileNotFoundError\u001B[0m: [Errno 2] No such file or directory: 'java'"
     ]
    },
    {
     "data": {
      "text/plain": []
     },
     "execution_count": 6,
     "metadata": {},
     "output_type": "execute_result"
    }
   ],
   "execution_count": 6
  },
  {
   "cell_type": "code",
   "metadata": {
    "ExecuteTime": {
     "end_time": "2025-03-22T12:26:11.556931Z",
     "start_time": "2025-03-22T12:26:11.466450Z"
    }
   },
   "source": [
    "print(builder.translate(module))"
   ],
   "outputs": [
    {
     "ename": "NameError",
     "evalue": "name 'builder' is not defined",
     "output_type": "error",
     "traceback": [
      "\u001B[0;31m---------------------------------------------------------------------------\u001B[0m",
      "\u001B[0;31mNameError\u001B[0m                                 Traceback (most recent call last)",
      "Cell \u001B[0;32mIn[1], line 1\u001B[0m\n\u001B[0;32m----> 1\u001B[0m \u001B[38;5;28mprint\u001B[39m(\u001B[43mbuilder\u001B[49m\u001B[38;5;241m.\u001B[39mtranslate(module))\n",
      "\u001B[0;31mNameError\u001B[0m: name 'builder' is not defined"
     ]
    }
   ],
   "execution_count": 1
  },
  {
   "metadata": {},
   "cell_type": "code",
   "outputs": [],
   "execution_count": null,
   "source": ""
  }
 ],
 "metadata": {
  "kernelspec": {
   "display_name": "irx",
   "language": "python",
   "name": "python3"
  },
  "language_info": {
   "codemirror_mode": {
    "name": "ipython",
    "version": 3
   },
   "file_extension": ".py",
   "mimetype": "text/x-python",
   "name": "python",
   "nbconvert_exporter": "python",
   "pygments_lexer": "ipython3",
   "version": "3.13.2"
  }
 },
 "nbformat": 4,
 "nbformat_minor": 4
}
